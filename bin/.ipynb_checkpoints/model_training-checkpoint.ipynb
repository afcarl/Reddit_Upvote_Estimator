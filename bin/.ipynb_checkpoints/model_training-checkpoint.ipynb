{
 "cells": [
  {
   "cell_type": "code",
   "execution_count": 6,
   "metadata": {},
   "outputs": [],
   "source": [
    "from main import extract, transform, model\n",
    "logging.getLogger().setLevel(logging.INFO)"
   ]
  },
  {
   "cell_type": "code",
   "execution_count": null,
   "metadata": {},
   "outputs": [
    {
     "name": "stderr",
     "output_type": "stream",
     "text": [
      "INFO:root:Begin extract\n",
      "INFO:root:Downloading submissions from Reddit\n",
      "INFO:root:Beginning Reddit scraper, for subreddit: JapanTravel, and num_days: 300\n",
      "INFO:root:Creating reddit connection\n",
      "INFO:root:Searching for subreddit: JapanTravel\n",
      "INFO:root:Completed scrape of subreddit: JapanTravel\n",
      "INFO:root:Found 5960 submissions\n",
      "INFO:root:Attempting to either validate or download and extract embeddings.\n",
      "INFO:root:Embeddings available at: ../resources/GoogleNews-vectors-negative300.bin\n",
      "INFO:root:Reading embedding matrix and word to index dictionary from file\n",
      "INFO:gensim.models.keyedvectors:loading projection weights from ../resources/GoogleNews-vectors-negative300.bin\n"
     ]
    }
   ],
   "source": [
    "# Extract\n",
    "embedding_matrix, word_to_index, observations = extract()"
   ]
  },
  {
   "cell_type": "code",
   "execution_count": null,
   "metadata": {},
   "outputs": [],
   "source": [
    "# Transform\n",
    "observations = cPickle.load(open('../data/pickles/posts_extract.pkl'))\n",
    "embedding_matrix, word_to_index, observations, label_encoder = transform(embedding_matrix, word_to_index, observations)"
   ]
  },
  {
   "cell_type": "code",
   "execution_count": null,
   "metadata": {},
   "outputs": [],
   "source": [
    "reload(model)\n",
    "reload(models)\n",
    "# Model\n",
    "embedding_matrix, word_to_index, observations, label_encoder, network = model(embedding_matrix, word_to_index, observations, label_encoder)"
   ]
  }
 ],
 "metadata": {
  "kernelspec": {
   "display_name": "Python 2",
   "language": "python",
   "name": "python2"
  },
  "language_info": {
   "codemirror_mode": {
    "name": "ipython",
    "version": 2
   },
   "file_extension": ".py",
   "mimetype": "text/x-python",
   "name": "python",
   "nbconvert_exporter": "python",
   "pygments_lexer": "ipython2",
   "version": "2.7.12"
  }
 },
 "nbformat": 4,
 "nbformat_minor": 1
}
